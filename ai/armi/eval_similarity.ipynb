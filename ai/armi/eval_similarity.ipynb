{
 "cells": [
  {
   "cell_type": "code",
   "execution_count": 1,
   "metadata": {},
   "outputs": [],
   "source": [
    "import pandas as pd\n",
    "import numpy as np\n",
    "from preprocess import load_data  \n",
    "pd.set_option('mode.chained_assignment',  None) \n",
    "import warnings\n",
    "warnings.filterwarnings(\"ignore\")"
   ]
  },
  {
   "cell_type": "code",
   "execution_count": 2,
   "metadata": {},
   "outputs": [],
   "source": [
    "def make_dataframe(user):\n",
    "    tmp = solved_problem[solved_problem['handle'].isin(user)]\n",
    "    tmp.problems = tmp.problems.apply(lambda x: str(x).split(','))\n",
    "    tmp = tmp.explode('problems')\n",
    "    tmp.problems = tmp.problems.astype('int')\n",
    "    tmp = pd.merge(problems_class[['problemId','class_n']], tmp, how='right', left_on='problemId', right_on='problems')\n",
    "    tmp.fillna(0, inplace=True)\n",
    "    tmp.drop(['problemId'], axis=1, inplace=True)\n",
    "    tmp = pd.merge(problem[['problemId','level']], tmp, how='right', left_on='problemId', right_on='problems')\n",
    "    tmp.fillna(0, inplace=True)\n",
    "    tmp.drop(['problems'], axis=1, inplace=True)\n",
    "    print('평가용 데이터프레임 생성 완료')\n",
    "    return tmp"
   ]
  },
  {
   "cell_type": "code",
   "execution_count": 6,
   "metadata": {},
   "outputs": [],
   "source": [
    "def _possible_bonus_class(x):\n",
    "    cnt = x.count()\n",
    "    if cnt>=20:\n",
    "        return 1\n",
    "    return 0"
   ]
  },
  {
   "cell_type": "code",
   "execution_count": 5,
   "metadata": {},
   "outputs": [],
   "source": [
    "def _cut_100(df):\n",
    "    tmp_level = df.sort_values(['handle','level'], ascending=False)\n",
    "    d= pd.DataFrame(tmp_level.groupby('handle')['problemId'].count() >= 100)\n",
    "    idx = d[d.problem_id==True].index\n",
    "    result = tmp_level[tmp_level.handle.isin(idx)].groupby('handle').head(100)\n",
    "    result = pd.concat([result,tmp_level[~tmp_level.handle.isin(idx)]], axis=0)\n",
    "\n",
    "    return result"
   ]
  },
  {
   "cell_type": "code",
   "execution_count": 4,
   "metadata": {},
   "outputs": [],
   "source": [
    "def _give_bonus_class(x):\n",
    "    if x==0:\n",
    "        return 0\n",
    "    elif x== 1 or x==2:\n",
    "        return 25 # bonus_class\n",
    "    elif x >=3 and x<=5:\n",
    "        return 50\n",
    "    else:\n",
    "        return 10"
   ]
  },
  {
   "cell_type": "code",
   "execution_count": 7,
   "metadata": {},
   "outputs": [],
   "source": [
    "def _give_bonus_solved_count(x):\n",
    "    return  175*(1-0.995**(x))"
   ]
  },
  {
   "cell_type": "code",
   "execution_count": 8,
   "metadata": {},
   "outputs": [],
   "source": [
    "def bonus_class(tmp):\n",
    "    # 클래스 문제 풀이 수\n",
    "    # 문제풀이 데이터셋 생성\n",
    "    tmp_class = tmp.groupby(['handle','class_n'])['problemId'].agg([_possible_bonus_class])\n",
    "    tmp_class.reset_index(inplace=True)\n",
    "    # tmp_class.drop(tmp_class[tmp_class['class']==0].index, axis=0, inplace=True)\n",
    "    # tmp_class.reset_index(inplace=True,drop=True)\n",
    "    tmp_class['bonus_class'] = tmp_class['class_n'].apply(_give_bonus_class)\n",
    "    # _possible_bonus_class가 0인 행들은 보너스 점수 0으로\n",
    "    tmp_class['bonus_class'].iloc[tmp_class[tmp_class._possible_bonus_class==0].index]=0\n",
    "    tmp_class = tmp_class.groupby('handle')['bonus_class'].sum()\n",
    "    if len(tmp_class)==0:\n",
    "        return [0]\n",
    "    tmp_class = pd.DataFrame(tmp_class).reset_index()\n",
    "    return tmp_class"
   ]
  },
  {
   "cell_type": "code",
   "execution_count": null,
   "metadata": {},
   "outputs": [],
   "source": [
    "def score_level(tmp):\n",
    "    # 푼 문제 난이도 합\n",
    "    tmp_level = tmp.sort_values(['handle','level'], ascending=False)\n",
    "\n",
    "    tmp_level = _cut_100(tmp_level)\n",
    "    tmp_level = tmp_level.groupby('handle')['level'].sum()\n",
    "    tmp_level = pd.DataFrame(tmp_level).reset_index()\n",
    "    return tmp_level"
   ]
  },
  {
   "cell_type": "code",
   "execution_count": null,
   "metadata": {},
   "outputs": [],
   "source": [
    "def bonus_solved_count(user):\n",
    "    # 푼 문제 수\n",
    "    # if type(user)==str:\n",
    "    #     user=[user]\n",
    "    tmp_cnt = users[users.handle.isin(user)][['handle','solvedCount']]\n",
    "    tmp_cnt.solvedCount = tmp_cnt.solvedCount.apply(_give_bonus_solved_count)\n",
    "    return tmp_cnt"
   ]
  },
  {
   "cell_type": "code",
   "execution_count": null,
   "metadata": {},
   "outputs": [],
   "source": [
    "def diff(rival, target, max_score, num_rival=6):\n",
    "    return np.average(np.sum(abs(target-rival)/max_score,axis=1)/num_rival)"
   ]
  },
  {
   "cell_type": "code",
   "execution_count": null,
   "metadata": {},
   "outputs": [],
   "source": [
    "def evaluate(target_user, lst_rivals, db):\n",
    "    def convert_solved_count(x):\n",
    "        return list(tmp_solved_count[tmp_solved_count.handle.isin(x)]['solvedCount'].values)\n",
    "    def convert_class(x):\n",
    "        return list(tmp_class[tmp_class.handle.isin(x)]['bonus_class'].values)\n",
    "    def convert_level(x):\n",
    "        return list(tmp_level[tmp_level.handle.isin(x)]['level'].values)\n",
    "\n",
    "    global df_problems, df_problems_solved, df_users, df_problems_class\n",
    "    df_problems, df_problems_solved, df_users, df_problems_class = load_data(db)\n",
    "\n",
    "    lst_rivals = list(lst_rivals.apply(lambda x: x.split(',')).values)\n",
    "    df_target = make_dataframe(target_user)\n",
    "    print(\"dataframe 만들기 완료\")\n",
    "    tmp_level = score_level(df_target)\n",
    "    rivals_level= list(map(convert_level, lst_rivals))\n",
    "    print(\"score level 적용 완료\")\n",
    "    rivals_level = np.array(rivals_level)\n",
    "    target_level = tmp_level.level.values\n",
    "    target_level = np.expand_dims(target_level,1)\n",
    "    print('target_level 평가 완료')\n",
    "\n",
    "    tmp_class = bonus_class(df_target)\n",
    "    print(\"bonus_class 적용 완료\")\n",
    "    rivals_class = list(map(convert_class, lst_rivals))\n",
    "    print(\"convert_class 적용 완료\")\n",
    "    rivals_class = np.array(rivals_class)\n",
    "    target_class = tmp_class.bonus_class.values\n",
    "    target_class = np.expand_dims(target_class,1)\n",
    "    print('target_class 평가 완료')\n",
    "\n",
    "    tmp_solved_count = bonus_solved_count(target_user)\n",
    "    print(\"bonus_solved_count 적용 완료\")\n",
    "    rivals_solved_count = list(map(convert_solved_count, lst_rivals))\n",
    "    print(\"convert_solved_count 적용 완료\")\n",
    "    rivals_solved_count = np.array(rivals_solved_count)\n",
    "    target_solved_count = tmp_solved_count.solvedCount.values\n",
    "    target_solved_count = np.expand_dims(target_solved_count,1)\n",
    "    print('target_solved_count 평가 완료')\n",
    "\n",
    "    diff_solved_count = diff(rivals_solved_count,target_solved_count, 175)\n",
    "    diff_level = diff(rivals_level, target_level, 3000)\n",
    "    diff_class = diff(rivals_class, target_class, 250)\n",
    "\n",
    "    return [diff_solved_count, diff_level, diff_class, (diff_solved_count + diff_level + diff_class)/3]"
   ]
  }
 ],
 "metadata": {
  "kernelspec": {
   "display_name": "base",
   "language": "python",
   "name": "python3"
  },
  "language_info": {
   "codemirror_mode": {
    "name": "ipython",
    "version": 3
   },
   "file_extension": ".py",
   "mimetype": "text/x-python",
   "name": "python",
   "nbconvert_exporter": "python",
   "pygments_lexer": "ipython3",
   "version": "3.9.13"
  },
  "orig_nbformat": 4
 },
 "nbformat": 4,
 "nbformat_minor": 2
}
