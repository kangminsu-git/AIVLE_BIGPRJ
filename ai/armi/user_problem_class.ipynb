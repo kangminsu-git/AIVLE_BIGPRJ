{
 "cells": [
  {
   "cell_type": "code",
   "execution_count": 20,
   "metadata": {},
   "outputs": [],
   "source": [
    "import requests\n",
    "import time\n",
    "import pandas as pd"
   ]
  },
  {
   "cell_type": "code",
   "execution_count": 25,
   "metadata": {},
   "outputs": [],
   "source": [
    "url = \"https://solved.ac/api/v3/user/problem_stats\"\n",
    "headers = {\"Accept\": \"application/json\"}\n",
    "user = pd.read_csv('users.csv', encoding='utf-8')\n",
    "user_handle = user['handle']\n",
    "\n",
    "result = []"
   ]
  },
  {
   "cell_type": "code",
   "execution_count": null,
   "metadata": {},
   "outputs": [],
   "source": [
    "for i, handle in enumerate(user_handle, 1):\n",
    "    querystring = {\"handle\": handle}\n",
    "    response = requests.get(url, headers=headers, params=querystring)\n",
    "\n",
    "    # 타임슬립을 적용하여 요청 간격 조절\n",
    "    time.sleep(1)  # 1초의 타임슬립\n",
    "    \n",
    "    # 요청이 성공한 경우 데이터를 저장\n",
    "    if response.status_code == 200:\n",
    "        data = response.json()\n",
    "        # 필요한 정보 추출하여 저장\n",
    "        problem_class = {\"handle\": handle}\n",
    "        for stat in data:\n",
    "            level = f\"level{stat['level']}\"\n",
    "            solved = stat['solved']\n",
    "            problem_class[level] = solved\n",
    "        result.append(problem_class)\n",
    "    else:\n",
    "        print(\"Request failed for handle\", handle, \"with status code:\", response.status_code)\n",
    "\n",
    "    # 유저 100명마다 결과를 저장\n",
    "    if i % 100 == 0 or i == len(user_handle):\n",
    "        df = pd.DataFrame(result)\n",
    "        df.to_csv('user_problem_class.csv', mode='a', index=False, header=not i > 100)\n",
    "        result = []\n",
    "\n",
    "# 파일 저장 완료 메시지 출력\n",
    "print(\"Data saved to user_problem_class.csv\")\n"
   ]
  }
 ],
 "metadata": {
  "kernelspec": {
   "display_name": "base",
   "language": "python",
   "name": "python3"
  },
  "language_info": {
   "codemirror_mode": {
    "name": "ipython",
    "version": 3
   },
   "file_extension": ".py",
   "mimetype": "text/x-python",
   "name": "python",
   "nbconvert_exporter": "python",
   "pygments_lexer": "ipython3",
   "version": "3.9.13"
  },
  "orig_nbformat": 4
 },
 "nbformat": 4,
 "nbformat_minor": 2
}
