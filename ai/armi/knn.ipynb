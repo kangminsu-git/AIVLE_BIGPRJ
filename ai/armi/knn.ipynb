{
 "cells": [
  {
   "cell_type": "code",
   "execution_count": 17,
   "metadata": {},
   "outputs": [],
   "source": [
    "import pandas as pd\n",
    "import numpy as np\n",
    "from sklearn.neighbors import NearestNeighbors\n",
    "from sklearn.preprocessing import MinMaxScaler\n",
    "import warnings\n",
    "warnings.filterwarnings(\"ignore\")"
   ]
  },
  {
   "cell_type": "code",
   "execution_count": 18,
   "metadata": {},
   "outputs": [],
   "source": [
    "def str_to_list(string):\n",
    "    if string:\n",
    "        return string.split(',')\n",
    "    else:\n",
    "        return []"
   ]
  },
  {
   "cell_type": "code",
   "execution_count": 19,
   "metadata": {},
   "outputs": [],
   "source": [
    "def remove_self(x):\n",
    "    if x[0] in x[1]:\n",
    "        return np.delete(x[1],np.where(x[0]==x[1])[0])\n",
    "    else:\n",
    "        return x[1][:6]"
   ]
  },
  {
   "cell_type": "code",
   "execution_count": 24,
   "metadata": {},
   "outputs": [],
   "source": [
    "def load_data():\n",
    "    problem = pd.read_csv('problems.csv', encoding='utf-8')  # 백준 문제 데이터\n",
    "    users = pd.read_csv('users.csv', encoding='utf-8')  # solved.ac이랑 연동된 유저 데이터\n",
    "    solved_problem = pd.read_csv('solved_problems.csv')  # solved.ac 유저별 푼 문제 데이터\n",
    "\n",
    "    problem['tags'] = problem['tags'].apply(lambda x: str_to_list(x))\n",
    "    problem['titles'] = problem['titles'].apply(lambda x: str_to_list(x))\n",
    "    solved_problem['problems'] = solved_problem['problems'].apply(lambda x: str_to_list(x) if isinstance(x, str) else [])\n",
    "    problem['tags'] = problem['tags'].apply(lambda x: list(x))\n",
    "\n",
    "    # 전처리\n",
    "    problem = problem[problem.isSolvable == True]\n",
    "    problem = problem[problem.official == True]\n",
    "    problem['tags'].loc[problem.tags.isnull()] = ''\n",
    "    problem = problem[problem['level'] != 0]\n",
    "    \n",
    "    solved_problem.drop(solved_problem[solved_problem.problems == ''].index, axis=0, inplace=True)\n",
    "    users = users[users.handle.isin(solved_problem.handle)]\n",
    "    users.drop(users[users.handle.isin(list(set(users[users.solvedCount == 0].handle) - set(solved_problem.handle)))].index, axis=0, inplace=True)\n",
    "    users = users[users.handle.isin(solved_problem.handle)]\n",
    "    problem.reset_index(inplace=True, drop=True)\n",
    "    solved_problem.reset_index(inplace=True, drop=True)\n",
    "    users.reset_index(inplace=True, drop=True)\n",
    "\n",
    "    return problem, solved_problem, users"
   ]
  },
  {
   "cell_type": "code",
   "execution_count": 25,
   "metadata": {},
   "outputs": [],
   "source": [
    "def preprocess_rival(problem, solved_problem, users):\n",
    "    \n",
    "    # 레벨별 문제풀이수\n",
    "    user_problems = solved_problem[['handle', 'problems']]\n",
    "    user_problems['problems'] = user_problems['problems'].astype(str)\n",
    "    user_problems['problems'] = user_problems['problems'].str.replace('[', '').str.replace(']', '')\n",
    "    user_problems['problems'] = user_problems['problems'].str.split(',')\n",
    "    user_problems = user_problems.explode('problems')\n",
    "    user_problems['problems'] = user_problems['problems'].str.strip()\n",
    "    user_problems['problems'] = user_problems['problems'].str.strip(\"'\\\"\")\n",
    "    user_problems['problems'] = user_problems['problems'].str.replace(\"'\", \"\").str.strip()\n",
    "    user_problems['problems'] = user_problems['problems'].fillna(0)\n",
    "    user_problems['problems'] = user_problems['problems'].replace('', 0)\n",
    "    user_problems['problems'] = user_problems['problems'].astype(int)\n",
    "    user_problems = user_problems.dropna()\n",
    "\n",
    "    user_problems = pd.merge(user_problems, problem[['problemId', 'level']], left_on='problems', right_on='problemId', how='left')\n",
    "    user_problems = user_problems.groupby(['handle', 'level']).size().reset_index(name='count')\n",
    "    user_problems = pd.DataFrame(user_problems)\n",
    "    user_problems.reset_index(inplace=True)\n",
    "    user_problems['problems'] = 1\n",
    "    user_problems = user_problems.pivot_table(index=\"handle\", columns=[\"level\"], aggfunc=np.sum, values='problems', fill_value=0)\n",
    "    user_problems = pd.DataFrame(user_problems)\n",
    "    users_info = user_problems.reset_index()\n",
    "\n",
    "    # 정규화  \n",
    "    scaler = MinMaxScaler()\n",
    "    num_vars = list(users_info.columns[1:])\n",
    "    if not users_info.empty:\n",
    "        users_info[num_vars] = scaler.fit_transform(users_info[num_vars])\n",
    "    else:\n",
    "        print(\"Error: Empty DataFrame\")\n",
    "\n",
    "    real_users = users[['handle', 'solvedCount', 'class', 'tier', 'ratingByClass', 'ratingBySolvedCount', 'ratingByProblemsSum']]\n",
    "    scaler = MinMaxScaler()\n",
    "    num_vars = ['solvedCount', 'class', 'ratingByClass', 'ratingBySolvedCount', 'ratingByProblemsSum']\n",
    "    real_users[num_vars] = scaler.fit_transform(real_users[num_vars])\n",
    "\n",
    "    real_users = pd.merge(users_info, real_users, on='handle')\n",
    "    real_users = real_users.sort_values('handle')\n",
    "    real_users.reset_index(drop=True, inplace=True)\n",
    "    \n",
    "    return real_users"
   ]
  },
  {
   "cell_type": "code",
   "execution_count": 36,
   "metadata": {},
   "outputs": [],
   "source": [
    "def rival_knn_main():\n",
    "    problem, solved_problem, users= load_data()\n",
    "    print('데이터 로드 완료')\n",
    "    \n",
    "    data = preprocess_rival(problem, solved_problem, users)\n",
    "    print('데이터 전처리 완료')\n",
    "    \n",
    "    knn = NearestNeighbors(n_neighbors=7, p=2)\n",
    "    df_data = np.array(data.iloc[:, 1:])\n",
    "    knn.fit(df_data)\n",
    "    rival_idx = knn.kneighbors(df_data, return_distance=False)\n",
    "    print('knn 학습 완료')\n",
    "    \n",
    "    result = ([[k, v] for k, v in zip(list(range(len(rival_idx))), rival_idx)])\n",
    "    df_result = pd.DataFrame(result, columns=['handle', 'rec_rival'])\n",
    "    df_result[1] = df_result.apply(remove_self, axis=1)\n",
    "    df_result = df_result[1]\n",
    "    df_result['rec_rival'] = df_result['rec_rival'].str.strip(\",\")\n",
    "    lst_rivals = [','.join(list(data.loc[x, 'handle'])) for x in df_result.index]\n",
    "\n",
    "    target_users = list(df_data.handle)\n",
    "    output = pd.DataFrame(target_users, columns=['handle'])\n",
    "    output['rec_rivals'] = lst_rivals\n",
    "    output.index += 1\n",
    "    output.index.name = 'id'\n",
    "    output.to_csv('rec_rival_knn.csv')\n",
    "\n",
    "    print('라이벌 추천 완료!')\n",
    "    return output"
   ]
  },
  {
   "cell_type": "code",
   "execution_count": 37,
   "metadata": {},
   "outputs": [
    {
     "name": "stdout",
     "output_type": "stream",
     "text": [
      "데이터 로드 완료\n",
      "데이터 전처리 완료\n",
      "knn 학습 완료\n"
     ]
    },
    {
     "ename": "KeyError",
     "evalue": "'rec_rival'",
     "output_type": "error",
     "traceback": [
      "\u001b[1;31m---------------------------------------------------------------------------\u001b[0m",
      "\u001b[1;31mKeyError\u001b[0m                                  Traceback (most recent call last)",
      "Cell \u001b[1;32mIn[37], line 2\u001b[0m\n\u001b[0;32m      1\u001b[0m \u001b[39m# KNN 모델 학습 및 라이벌 추천 수행\u001b[39;00m\n\u001b[1;32m----> 2\u001b[0m output \u001b[39m=\u001b[39m rival_knn_main()\n\u001b[0;32m      3\u001b[0m \u001b[39mprint\u001b[39m(output)\n",
      "Cell \u001b[1;32mIn[36], line 18\u001b[0m, in \u001b[0;36mrival_knn_main\u001b[1;34m()\u001b[0m\n\u001b[0;32m     16\u001b[0m df_result[\u001b[39m1\u001b[39m] \u001b[39m=\u001b[39m df_result\u001b[39m.\u001b[39mapply(remove_self, axis\u001b[39m=\u001b[39m\u001b[39m1\u001b[39m)\n\u001b[0;32m     17\u001b[0m df_result \u001b[39m=\u001b[39m df_result[\u001b[39m1\u001b[39m]\n\u001b[1;32m---> 18\u001b[0m df_result[\u001b[39m'\u001b[39m\u001b[39mrec_rival\u001b[39m\u001b[39m'\u001b[39m] \u001b[39m=\u001b[39m df_result[\u001b[39m'\u001b[39;49m\u001b[39mrec_rival\u001b[39;49m\u001b[39m'\u001b[39;49m]\u001b[39m.\u001b[39mstr\u001b[39m.\u001b[39mstrip(\u001b[39m\"\u001b[39m\u001b[39m,\u001b[39m\u001b[39m\"\u001b[39m)\n\u001b[0;32m     19\u001b[0m lst_rivals \u001b[39m=\u001b[39m [\u001b[39m'\u001b[39m\u001b[39m,\u001b[39m\u001b[39m'\u001b[39m\u001b[39m.\u001b[39mjoin(\u001b[39mlist\u001b[39m(data\u001b[39m.\u001b[39mloc[x, \u001b[39m'\u001b[39m\u001b[39mhandle\u001b[39m\u001b[39m'\u001b[39m])) \u001b[39mfor\u001b[39;00m x \u001b[39min\u001b[39;00m df_result\u001b[39m.\u001b[39mindex]\n\u001b[0;32m     21\u001b[0m target_users \u001b[39m=\u001b[39m \u001b[39mlist\u001b[39m(df_data\u001b[39m.\u001b[39mhandle)\n",
      "File \u001b[1;32mc:\\Users\\User\\anaconda3\\lib\\site-packages\\pandas\\core\\series.py:958\u001b[0m, in \u001b[0;36mSeries.__getitem__\u001b[1;34m(self, key)\u001b[0m\n\u001b[0;32m    955\u001b[0m     \u001b[39mreturn\u001b[39;00m \u001b[39mself\u001b[39m\u001b[39m.\u001b[39m_values[key]\n\u001b[0;32m    957\u001b[0m \u001b[39melif\u001b[39;00m key_is_scalar:\n\u001b[1;32m--> 958\u001b[0m     \u001b[39mreturn\u001b[39;00m \u001b[39mself\u001b[39;49m\u001b[39m.\u001b[39;49m_get_value(key)\n\u001b[0;32m    960\u001b[0m \u001b[39mif\u001b[39;00m is_hashable(key):\n\u001b[0;32m    961\u001b[0m     \u001b[39m# Otherwise index.get_value will raise InvalidIndexError\u001b[39;00m\n\u001b[0;32m    962\u001b[0m     \u001b[39mtry\u001b[39;00m:\n\u001b[0;32m    963\u001b[0m         \u001b[39m# For labels that don't resolve as scalars like tuples and frozensets\u001b[39;00m\n",
      "File \u001b[1;32mc:\\Users\\User\\anaconda3\\lib\\site-packages\\pandas\\core\\series.py:1069\u001b[0m, in \u001b[0;36mSeries._get_value\u001b[1;34m(self, label, takeable)\u001b[0m\n\u001b[0;32m   1066\u001b[0m     \u001b[39mreturn\u001b[39;00m \u001b[39mself\u001b[39m\u001b[39m.\u001b[39m_values[label]\n\u001b[0;32m   1068\u001b[0m \u001b[39m# Similar to Index.get_value, but we do not fall back to positional\u001b[39;00m\n\u001b[1;32m-> 1069\u001b[0m loc \u001b[39m=\u001b[39m \u001b[39mself\u001b[39;49m\u001b[39m.\u001b[39;49mindex\u001b[39m.\u001b[39;49mget_loc(label)\n\u001b[0;32m   1070\u001b[0m \u001b[39mreturn\u001b[39;00m \u001b[39mself\u001b[39m\u001b[39m.\u001b[39mindex\u001b[39m.\u001b[39m_get_values_for_loc(\u001b[39mself\u001b[39m, loc, label)\n",
      "File \u001b[1;32mc:\\Users\\User\\anaconda3\\lib\\site-packages\\pandas\\core\\indexes\\range.py:389\u001b[0m, in \u001b[0;36mRangeIndex.get_loc\u001b[1;34m(self, key, method, tolerance)\u001b[0m\n\u001b[0;32m    387\u001b[0m             \u001b[39mraise\u001b[39;00m \u001b[39mKeyError\u001b[39;00m(key) \u001b[39mfrom\u001b[39;00m \u001b[39merr\u001b[39;00m\n\u001b[0;32m    388\u001b[0m     \u001b[39mself\u001b[39m\u001b[39m.\u001b[39m_check_indexing_error(key)\n\u001b[1;32m--> 389\u001b[0m     \u001b[39mraise\u001b[39;00m \u001b[39mKeyError\u001b[39;00m(key)\n\u001b[0;32m    390\u001b[0m \u001b[39mreturn\u001b[39;00m \u001b[39msuper\u001b[39m()\u001b[39m.\u001b[39mget_loc(key, method\u001b[39m=\u001b[39mmethod, tolerance\u001b[39m=\u001b[39mtolerance)\n",
      "\u001b[1;31mKeyError\u001b[0m: 'rec_rival'"
     ]
    }
   ],
   "source": [
    "# KNN 모델 학습 및 라이벌 추천 수행\n",
    "output = rival_knn_main()\n",
    "print(output)"
   ]
  },
  {
   "cell_type": "code",
   "execution_count": null,
   "metadata": {},
   "outputs": [],
   "source": []
  }
 ],
 "metadata": {
  "kernelspec": {
   "display_name": "base",
   "language": "python",
   "name": "python3"
  },
  "language_info": {
   "codemirror_mode": {
    "name": "ipython",
    "version": 3
   },
   "file_extension": ".py",
   "mimetype": "text/x-python",
   "name": "python",
   "nbconvert_exporter": "python",
   "pygments_lexer": "ipython3",
   "version": "3.9.13"
  },
  "orig_nbformat": 4
 },
 "nbformat": 4,
 "nbformat_minor": 2
}
