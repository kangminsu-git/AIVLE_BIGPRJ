{
 "cells": [
  {
   "cell_type": "code",
   "execution_count": 1,
   "metadata": {},
   "outputs": [],
   "source": [
    "import pandas as pd\n",
    "import numpy as np\n",
    "from ast import literal_eval"
   ]
  },
  {
   "cell_type": "code",
   "execution_count": 2,
   "metadata": {},
   "outputs": [],
   "source": [
    "# 문자열을 리스트로 변환\n",
    "def str_to_list(x):\n",
    "    try:\n",
    "        return literal_eval(x)\n",
    "    except: #해당 값이 null값이거나 오류가 있을 때, None을 return 하기\n",
    "        return None\n",
    "    \n",
    "# 딕셔너리에서 키값만 반환\n",
    "def dic_to_list(x):\n",
    "    try:\n",
    "        temp = []\n",
    "        for i in x:\n",
    "            temp.append(i[\"key\"])\n",
    "        if not temp:\n",
    "            return None\n",
    "        else:\n",
    "            return temp\n",
    "    except: #해당 값이 null값이거나 오류가 있을 때, None을 return 하기\n",
    "        return None"
   ]
  },
  {
   "cell_type": "code",
   "execution_count": null,
   "metadata": {},
   "outputs": [],
   "source": [
    "problems = pd.read_csv('./data/problems.csv', encoding='utf-8')\n",
    "users = pd.read_csv('./data/users.csv', encoding='utf-8')\n",
    "solved_problems = pd.read_csv('./data/solved_problems.csv')\n",
    "\n",
    "problems['tags'] = problems['tags'].apply(lambda x: str_to_list(x)) \n",
    "solved_problems['solved_problem'] = solved_problems['solved_problem'].apply(lambda x: str_to_list(x)) \n",
    "problems['tags'] = problems['tags'].apply(lambda x: dic_to_list(x)) "
   ]
  },
  {
   "cell_type": "code",
   "execution_count": null,
   "metadata": {},
   "outputs": [],
   "source": [
    "users_drop = ['bio', 'badgeId', 'backgroundId', 'profileImageUrl', 'voteCount', 'classDecoration', 'ratingByVoteCount',\n",
    "             'coins', 'stardusts', 'joinedAt', 'bannedUntil', 'proUntil', 'isRival', 'isReverseRival']\n",
    "users = users.drop(columns=users_drop, axis=1)\n",
    "users"
   ]
  },
  {
   "cell_type": "code",
   "execution_count": null,
   "metadata": {},
   "outputs": [],
   "source": [
    "problems_drop = ['titles', 'isPartial', 'votedUserCount', 'sprout', \n",
    "                'givesNoRating', 'givesNoRating', 'metadata', 'isLevelLocked']\n",
    "problems = problems.drop(columns=problems_drop, axis=1)\n",
    "problems"
   ]
  },
  {
   "cell_type": "code",
   "execution_count": null,
   "metadata": {},
   "outputs": [],
   "source": [
    "ban_users = users[(users.solvedCount == 0) & ((users.rating !=0)|(users.exp !=0))].index\n",
    "users = users.drop(index=ban_users).reset_index(drop=True)\n",
    "users"
   ]
  },
  {
   "cell_type": "code",
   "execution_count": null,
   "metadata": {},
   "outputs": [],
   "source": [
    "problems = problems.drop(index = problems.loc[problems['isSolvable'] == False].index).reset_index(drop=True)\n",
    "problems"
   ]
  },
  {
   "cell_type": "code",
   "execution_count": null,
   "metadata": {},
   "outputs": [],
   "source": [
    "problems = problems.drop(index = problems.loc[problems['official'] == False].index).reset_index(drop=True)\n",
    "problems"
   ]
  },
  {
   "cell_type": "code",
   "execution_count": null,
   "metadata": {},
   "outputs": [],
   "source": [
    "gudegi = [24900, 24901, 24902, 24903, 24904, 24905, 24906, 24907, 24908, 24909, 24910, 24911, \n",
    "          21292, 21293, 21294, 21295, 21296, 21297, 21298, 21299, \n",
    "           18821, 18822, 18823, 18824, 18825, 18826, 18827, 18828, 18829, 18830, 18831, 18832, 18833, 18834, 18835, 18836, \n",
    "            17106, 17107, 17108, 17109, 17110, 17111, 17112, 17113, 17114, 17115, 17116, 17117, 17118, 17119, 17120, \n",
    "           15629, 15630, 15631, 15632, 15633, 15634, 15635, 15636, 15637, 15638, 15639, 15640, 15641, 15642, 15643]"
   ]
  },
  {
   "cell_type": "code",
   "execution_count": null,
   "metadata": {},
   "outputs": [],
   "source": [
    "problems = problems[~problems['problemId'].isin(gudegi)].reset_index(drop=True)\n",
    "problems"
   ]
  }
 ],
 "metadata": {
  "kernelspec": {
   "display_name": "bigproject",
   "language": "python",
   "name": "python3"
  },
  "language_info": {
   "codemirror_mode": {
    "name": "ipython",
    "version": 3
   },
   "file_extension": ".py",
   "mimetype": "text/x-python",
   "name": "python",
   "nbconvert_exporter": "python",
   "pygments_lexer": "ipython3",
   "version": "3.10.11"
  },
  "orig_nbformat": 4
 },
 "nbformat": 4,
 "nbformat_minor": 2
}
