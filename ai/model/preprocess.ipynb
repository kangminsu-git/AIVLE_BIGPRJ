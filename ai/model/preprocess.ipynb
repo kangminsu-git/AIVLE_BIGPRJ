{
 "cells": [
  {
   "cell_type": "code",
   "execution_count": 26,
   "metadata": {},
   "outputs": [],
   "source": [
    "import pandas as pd\n",
    "import numpy as np\n",
    "from ast import literal_eval"
   ]
  },
  {
   "cell_type": "code",
   "execution_count": 27,
   "metadata": {},
   "outputs": [],
   "source": [
    "# 문자열을 리스트로 변환\n",
    "def str_to_list(x):\n",
    "    try:\n",
    "        return literal_eval(x)\n",
    "    except: #해당 값이 null값이거나 오류가 있을 때, None을 return 하기\n",
    "        return None\n",
    "    \n",
    "# 딕셔너리에서 키값만 반환\n",
    "def dic_to_list(x):\n",
    "    try:\n",
    "        temp = []\n",
    "        for i in x:\n",
    "            temp.append(i[\"key\"])\n",
    "        if not temp:\n",
    "            return None\n",
    "        else:\n",
    "            return temp\n",
    "    except: #해당 값이 null값이거나 오류가 있을 때, None을 return 하기\n",
    "        return None"
   ]
  },
  {
   "cell_type": "code",
   "execution_count": 28,
   "metadata": {},
   "outputs": [],
   "source": [
    "problems = pd.read_csv('../data/problems.csv', encoding='utf-8')\n",
    "users = pd.read_csv('../data/users.csv', encoding='utf-8')\n",
    "solved_problems = pd.read_csv('../data/solved_problems.csv')\n",
    "\n",
    "problems['tags'] = problems['tags'].apply(lambda x: str_to_list(x)) \n",
    "solved_problems['solved_problem'] = solved_problems['solved_problem'].apply(lambda x: str_to_list(x)) \n",
    "problems['tags'] = problems['tags'].apply(lambda x: dic_to_list(x)) "
   ]
  },
  {
   "cell_type": "code",
   "execution_count": 31,
   "metadata": {},
   "outputs": [
    {
     "ename": "KeyError",
     "evalue": "\"['bio', 'badgeId', 'backgroundId', 'profileImageUrl', 'voteCount', 'classDecoration', 'ratingByVoteCount', 'coins', 'stardusts', 'joinedAt', 'bannedUntil', 'proUntil', 'isRival', 'isReverseRival'] not found in axis\"",
     "output_type": "error",
     "traceback": [
      "\u001b[1;31m---------------------------------------------------------------------------\u001b[0m",
      "\u001b[1;31mKeyError\u001b[0m                                  Traceback (most recent call last)",
      "Cell \u001b[1;32mIn[31], line 4\u001b[0m\n\u001b[0;32m      1\u001b[0m users_drop \u001b[39m=\u001b[39m [\u001b[39m'\u001b[39m\u001b[39mbio\u001b[39m\u001b[39m'\u001b[39m, \u001b[39m'\u001b[39m\u001b[39mbadgeId\u001b[39m\u001b[39m'\u001b[39m, \u001b[39m'\u001b[39m\u001b[39mbackgroundId\u001b[39m\u001b[39m'\u001b[39m, \u001b[39m'\u001b[39m\u001b[39mprofileImageUrl\u001b[39m\u001b[39m'\u001b[39m, \u001b[39m'\u001b[39m\u001b[39mvoteCount\u001b[39m\u001b[39m'\u001b[39m, \u001b[39m'\u001b[39m\u001b[39mclassDecoration\u001b[39m\u001b[39m'\u001b[39m, \u001b[39m'\u001b[39m\u001b[39mratingByVoteCount\u001b[39m\u001b[39m'\u001b[39m,\n\u001b[0;32m      2\u001b[0m              \u001b[39m'\u001b[39m\u001b[39mcoins\u001b[39m\u001b[39m'\u001b[39m, \u001b[39m'\u001b[39m\u001b[39mstardusts\u001b[39m\u001b[39m'\u001b[39m, \u001b[39m'\u001b[39m\u001b[39mjoinedAt\u001b[39m\u001b[39m'\u001b[39m, \u001b[39m'\u001b[39m\u001b[39mbannedUntil\u001b[39m\u001b[39m'\u001b[39m, \u001b[39m'\u001b[39m\u001b[39mproUntil\u001b[39m\u001b[39m'\u001b[39m, \u001b[39m'\u001b[39m\u001b[39misRival\u001b[39m\u001b[39m'\u001b[39m, \u001b[39m'\u001b[39m\u001b[39misReverseRival\u001b[39m\u001b[39m'\u001b[39m]\n\u001b[0;32m      3\u001b[0m ban_users \u001b[39m=\u001b[39m users[(users\u001b[39m.\u001b[39msolvedCount \u001b[39m==\u001b[39m \u001b[39m0\u001b[39m) \u001b[39m&\u001b[39m ((users\u001b[39m.\u001b[39mrating \u001b[39m!=\u001b[39m\u001b[39m0\u001b[39m)\u001b[39m|\u001b[39m(users\u001b[39m.\u001b[39mexp \u001b[39m!=\u001b[39m\u001b[39m0\u001b[39m))]\u001b[39m.\u001b[39mindex\n\u001b[1;32m----> 4\u001b[0m users \u001b[39m=\u001b[39m users\u001b[39m.\u001b[39;49mdrop(columns\u001b[39m=\u001b[39;49musers_drop, axis\u001b[39m=\u001b[39;49m\u001b[39m1\u001b[39;49m)\n\u001b[0;32m      5\u001b[0m users \u001b[39m=\u001b[39m users\u001b[39m.\u001b[39mdrop(index\u001b[39m=\u001b[39mban_users)\u001b[39m.\u001b[39mreset_index(drop\u001b[39m=\u001b[39m\u001b[39mTrue\u001b[39;00m)\n\u001b[0;32m      6\u001b[0m users\n",
      "File \u001b[1;32mc:\\Users\\poohz\\anaconda3\\envs\\bigproject\\lib\\site-packages\\pandas\\core\\frame.py:5258\u001b[0m, in \u001b[0;36mDataFrame.drop\u001b[1;34m(self, labels, axis, index, columns, level, inplace, errors)\u001b[0m\n\u001b[0;32m   5110\u001b[0m \u001b[39mdef\u001b[39;00m \u001b[39mdrop\u001b[39m(\n\u001b[0;32m   5111\u001b[0m     \u001b[39mself\u001b[39m,\n\u001b[0;32m   5112\u001b[0m     labels: IndexLabel \u001b[39m=\u001b[39m \u001b[39mNone\u001b[39;00m,\n\u001b[1;32m   (...)\u001b[0m\n\u001b[0;32m   5119\u001b[0m     errors: IgnoreRaise \u001b[39m=\u001b[39m \u001b[39m\"\u001b[39m\u001b[39mraise\u001b[39m\u001b[39m\"\u001b[39m,\n\u001b[0;32m   5120\u001b[0m ) \u001b[39m-\u001b[39m\u001b[39m>\u001b[39m DataFrame \u001b[39m|\u001b[39m \u001b[39mNone\u001b[39;00m:\n\u001b[0;32m   5121\u001b[0m \u001b[39m    \u001b[39m\u001b[39m\"\"\"\u001b[39;00m\n\u001b[0;32m   5122\u001b[0m \u001b[39m    Drop specified labels from rows or columns.\u001b[39;00m\n\u001b[0;32m   5123\u001b[0m \n\u001b[1;32m   (...)\u001b[0m\n\u001b[0;32m   5256\u001b[0m \u001b[39m            weight  1.0     0.8\u001b[39;00m\n\u001b[0;32m   5257\u001b[0m \u001b[39m    \"\"\"\u001b[39;00m\n\u001b[1;32m-> 5258\u001b[0m     \u001b[39mreturn\u001b[39;00m \u001b[39msuper\u001b[39;49m()\u001b[39m.\u001b[39;49mdrop(\n\u001b[0;32m   5259\u001b[0m         labels\u001b[39m=\u001b[39;49mlabels,\n\u001b[0;32m   5260\u001b[0m         axis\u001b[39m=\u001b[39;49maxis,\n\u001b[0;32m   5261\u001b[0m         index\u001b[39m=\u001b[39;49mindex,\n\u001b[0;32m   5262\u001b[0m         columns\u001b[39m=\u001b[39;49mcolumns,\n\u001b[0;32m   5263\u001b[0m         level\u001b[39m=\u001b[39;49mlevel,\n\u001b[0;32m   5264\u001b[0m         inplace\u001b[39m=\u001b[39;49minplace,\n\u001b[0;32m   5265\u001b[0m         errors\u001b[39m=\u001b[39;49merrors,\n\u001b[0;32m   5266\u001b[0m     )\n",
      "File \u001b[1;32mc:\\Users\\poohz\\anaconda3\\envs\\bigproject\\lib\\site-packages\\pandas\\core\\generic.py:4549\u001b[0m, in \u001b[0;36mNDFrame.drop\u001b[1;34m(self, labels, axis, index, columns, level, inplace, errors)\u001b[0m\n\u001b[0;32m   4547\u001b[0m \u001b[39mfor\u001b[39;00m axis, labels \u001b[39min\u001b[39;00m axes\u001b[39m.\u001b[39mitems():\n\u001b[0;32m   4548\u001b[0m     \u001b[39mif\u001b[39;00m labels \u001b[39mis\u001b[39;00m \u001b[39mnot\u001b[39;00m \u001b[39mNone\u001b[39;00m:\n\u001b[1;32m-> 4549\u001b[0m         obj \u001b[39m=\u001b[39m obj\u001b[39m.\u001b[39;49m_drop_axis(labels, axis, level\u001b[39m=\u001b[39;49mlevel, errors\u001b[39m=\u001b[39;49merrors)\n\u001b[0;32m   4551\u001b[0m \u001b[39mif\u001b[39;00m inplace:\n\u001b[0;32m   4552\u001b[0m     \u001b[39mself\u001b[39m\u001b[39m.\u001b[39m_update_inplace(obj)\n",
      "File \u001b[1;32mc:\\Users\\poohz\\anaconda3\\envs\\bigproject\\lib\\site-packages\\pandas\\core\\generic.py:4591\u001b[0m, in \u001b[0;36mNDFrame._drop_axis\u001b[1;34m(self, labels, axis, level, errors, only_slice)\u001b[0m\n\u001b[0;32m   4589\u001b[0m         new_axis \u001b[39m=\u001b[39m axis\u001b[39m.\u001b[39mdrop(labels, level\u001b[39m=\u001b[39mlevel, errors\u001b[39m=\u001b[39merrors)\n\u001b[0;32m   4590\u001b[0m     \u001b[39melse\u001b[39;00m:\n\u001b[1;32m-> 4591\u001b[0m         new_axis \u001b[39m=\u001b[39m axis\u001b[39m.\u001b[39;49mdrop(labels, errors\u001b[39m=\u001b[39;49merrors)\n\u001b[0;32m   4592\u001b[0m     indexer \u001b[39m=\u001b[39m axis\u001b[39m.\u001b[39mget_indexer(new_axis)\n\u001b[0;32m   4594\u001b[0m \u001b[39m# Case for non-unique axis\u001b[39;00m\n\u001b[0;32m   4595\u001b[0m \u001b[39melse\u001b[39;00m:\n",
      "File \u001b[1;32mc:\\Users\\poohz\\anaconda3\\envs\\bigproject\\lib\\site-packages\\pandas\\core\\indexes\\base.py:6696\u001b[0m, in \u001b[0;36mIndex.drop\u001b[1;34m(self, labels, errors)\u001b[0m\n\u001b[0;32m   6694\u001b[0m \u001b[39mif\u001b[39;00m mask\u001b[39m.\u001b[39many():\n\u001b[0;32m   6695\u001b[0m     \u001b[39mif\u001b[39;00m errors \u001b[39m!=\u001b[39m \u001b[39m\"\u001b[39m\u001b[39mignore\u001b[39m\u001b[39m\"\u001b[39m:\n\u001b[1;32m-> 6696\u001b[0m         \u001b[39mraise\u001b[39;00m \u001b[39mKeyError\u001b[39;00m(\u001b[39mf\u001b[39m\u001b[39m\"\u001b[39m\u001b[39m{\u001b[39;00m\u001b[39mlist\u001b[39m(labels[mask])\u001b[39m}\u001b[39;00m\u001b[39m not found in axis\u001b[39m\u001b[39m\"\u001b[39m)\n\u001b[0;32m   6697\u001b[0m     indexer \u001b[39m=\u001b[39m indexer[\u001b[39m~\u001b[39mmask]\n\u001b[0;32m   6698\u001b[0m \u001b[39mreturn\u001b[39;00m \u001b[39mself\u001b[39m\u001b[39m.\u001b[39mdelete(indexer)\n",
      "\u001b[1;31mKeyError\u001b[0m: \"['bio', 'badgeId', 'backgroundId', 'profileImageUrl', 'voteCount', 'classDecoration', 'ratingByVoteCount', 'coins', 'stardusts', 'joinedAt', 'bannedUntil', 'proUntil', 'isRival', 'isReverseRival'] not found in axis\""
     ]
    }
   ],
   "source": [
    "users_drop = ['bio', 'badgeId', 'backgroundId', 'profileImageUrl', 'voteCount', 'classDecoration', 'ratingByVoteCount',\n",
    "             'coins', 'stardusts', 'joinedAt', 'bannedUntil', 'proUntil', 'isRival', 'isReverseRival']\n",
    "ban_users = users[(users.solvedCount == 0) & ((users.rating !=0)|(users.exp !=0))].index\n",
    "users = users.drop(columns=users_drop, axis=1)\n",
    "users = users.drop(index=ban_users).reset_index(drop=True)\n",
    "users"
   ]
  },
  {
   "cell_type": "code",
   "execution_count": null,
   "metadata": {},
   "outputs": [],
   "source": [
    "problems_drop = ['titles', 'isPartial', 'votedUserCount', 'sprout', \n",
    "                'givesNoRating', 'givesNoRating', 'metadata', 'isLevelLocked']\n",
    "gudegi = [24900, 24901, 24902, 24903, 24904, 24905, 24906, 24907, 24908, 24909, 24910, 24911, \n",
    "          21292, 21293, 21294, 21295, 21296, 21297, 21298, 21299, \n",
    "           18821, 18822, 18823, 18824, 18825, 18826, 18827, 18828, 18829, 18830, 18831, 18832, 18833, 18834, 18835, 18836, \n",
    "            17106, 17107, 17108, 17109, 17110, 17111, 17112, 17113, 17114, 17115, 17116, 17117, 17118, 17119, 17120, \n",
    "           15629, 15630, 15631, 15632, 15633, 15634, 15635, 15636, 15637, 15638, 15639, 15640, 15641, 15642, 15643]\n",
    "problems = problems.drop(columns=problems_drop, axis=1)\n",
    "problems = problems.drop(index = problems.loc[problems['isSolvable'] == False].index).reset_index(drop=True)\n",
    "problems = problems.drop(index = problems.loc[problems['official'] == False].index).reset_index(drop=True)\n",
    "problems = problems[~problems['problemId'].isin(gudegi)].reset_index(drop=True)\n",
    "problems"
   ]
  },
  {
   "cell_type": "code",
   "execution_count": 40,
   "metadata": {},
   "outputs": [
    {
     "data": {
      "text/html": [
       "<div>\n",
       "<style scoped>\n",
       "    .dataframe tbody tr th:only-of-type {\n",
       "        vertical-align: middle;\n",
       "    }\n",
       "\n",
       "    .dataframe tbody tr th {\n",
       "        vertical-align: top;\n",
       "    }\n",
       "\n",
       "    .dataframe thead th {\n",
       "        text-align: right;\n",
       "    }\n",
       "</style>\n",
       "<table border=\"1\" class=\"dataframe\">\n",
       "  <thead>\n",
       "    <tr style=\"text-align: right;\">\n",
       "      <th></th>\n",
       "      <th>handle</th>\n",
       "      <th>solved_problem</th>\n",
       "    </tr>\n",
       "  </thead>\n",
       "  <tbody>\n",
       "    <tr>\n",
       "      <th>0</th>\n",
       "      <td>koosaga</td>\n",
       "      <td>[2502, 12106, 18483, 2795, 18947, 10826, 23413...</td>\n",
       "    </tr>\n",
       "    <tr>\n",
       "      <th>1</th>\n",
       "      <td>cki86201</td>\n",
       "      <td>[2502, 11254, 12106, 16928, 18483, 15360, 1372...</td>\n",
       "    </tr>\n",
       "    <tr>\n",
       "      <th>2</th>\n",
       "      <td>mitnegativeinfinity</td>\n",
       "      <td>[18855, 18483, 11622, 1372, 24661, 18947, 2341...</td>\n",
       "    </tr>\n",
       "    <tr>\n",
       "      <th>3</th>\n",
       "      <td>ainta</td>\n",
       "      <td>[11865, 1372, 24270, 2795, 10826, 15513, 11228...</td>\n",
       "    </tr>\n",
       "    <tr>\n",
       "      <th>4</th>\n",
       "      <td>yclock</td>\n",
       "      <td>[5565, 16928, 20090, 10759, 2753, 7644, 11622,...</td>\n",
       "    </tr>\n",
       "    <tr>\n",
       "      <th>...</th>\n",
       "      <td>...</td>\n",
       "      <td>...</td>\n",
       "    </tr>\n",
       "    <tr>\n",
       "      <th>115282</th>\n",
       "      <td>youhk43</td>\n",
       "      <td>[]</td>\n",
       "    </tr>\n",
       "    <tr>\n",
       "      <th>115283</th>\n",
       "      <td>youjin1952</td>\n",
       "      <td>[]</td>\n",
       "    </tr>\n",
       "    <tr>\n",
       "      <th>115284</th>\n",
       "      <td>youjong12</td>\n",
       "      <td>[]</td>\n",
       "    </tr>\n",
       "    <tr>\n",
       "      <th>115285</th>\n",
       "      <td>youngin39</td>\n",
       "      <td>[]</td>\n",
       "    </tr>\n",
       "    <tr>\n",
       "      <th>115286</th>\n",
       "      <td>youngjae99</td>\n",
       "      <td>[]</td>\n",
       "    </tr>\n",
       "  </tbody>\n",
       "</table>\n",
       "<p>115287 rows × 2 columns</p>\n",
       "</div>"
      ],
      "text/plain": [
       "                     handle                                     solved_problem\n",
       "0                   koosaga  [2502, 12106, 18483, 2795, 18947, 10826, 23413...\n",
       "1                  cki86201  [2502, 11254, 12106, 16928, 18483, 15360, 1372...\n",
       "2       mitnegativeinfinity  [18855, 18483, 11622, 1372, 24661, 18947, 2341...\n",
       "3                     ainta  [11865, 1372, 24270, 2795, 10826, 15513, 11228...\n",
       "4                    yclock  [5565, 16928, 20090, 10759, 2753, 7644, 11622,...\n",
       "...                     ...                                                ...\n",
       "115282              youhk43                                                 []\n",
       "115283           youjin1952                                                 []\n",
       "115284            youjong12                                                 []\n",
       "115285            youngin39                                                 []\n",
       "115286           youngjae99                                                 []\n",
       "\n",
       "[115287 rows x 2 columns]"
      ]
     },
     "execution_count": 40,
     "metadata": {},
     "output_type": "execute_result"
    }
   ],
   "source": [
    "solved_problems = solved_problems.drop(index=ban_users).reset_index(drop=True)\n",
    "solved_problems = solved_problems.replace([],np.nan)\n",
    "solved_problems = solved_problems.dropna()\n",
    "solved_problems"
   ]
  },
  {
   "cell_type": "code",
   "execution_count": 25,
   "metadata": {},
   "outputs": [
    {
     "data": {
      "text/html": [
       "<div>\n",
       "<style scoped>\n",
       "    .dataframe tbody tr th:only-of-type {\n",
       "        vertical-align: middle;\n",
       "    }\n",
       "\n",
       "    .dataframe tbody tr th {\n",
       "        vertical-align: top;\n",
       "    }\n",
       "\n",
       "    .dataframe thead th {\n",
       "        text-align: right;\n",
       "    }\n",
       "</style>\n",
       "<table border=\"1\" class=\"dataframe\">\n",
       "  <thead>\n",
       "    <tr style=\"text-align: right;\">\n",
       "      <th></th>\n",
       "      <th>handle</th>\n",
       "      <th>solved_problem</th>\n",
       "    </tr>\n",
       "  </thead>\n",
       "  <tbody>\n",
       "    <tr>\n",
       "      <th>0</th>\n",
       "      <td>koosaga</td>\n",
       "      <td>[2502, 12106, 18483, 2795, 18947, 10826, 23413...</td>\n",
       "    </tr>\n",
       "    <tr>\n",
       "      <th>1</th>\n",
       "      <td>cki86201</td>\n",
       "      <td>[2502, 11254, 12106, 16928, 18483, 15360, 1372...</td>\n",
       "    </tr>\n",
       "    <tr>\n",
       "      <th>2</th>\n",
       "      <td>mitnegativeinfinity</td>\n",
       "      <td>[18855, 18483, 11622, 1372, 24661, 18947, 2341...</td>\n",
       "    </tr>\n",
       "    <tr>\n",
       "      <th>3</th>\n",
       "      <td>ainta</td>\n",
       "      <td>[11865, 1372, 24270, 2795, 10826, 15513, 11228...</td>\n",
       "    </tr>\n",
       "    <tr>\n",
       "      <th>4</th>\n",
       "      <td>yclock</td>\n",
       "      <td>[5565, 16928, 20090, 10759, 2753, 7644, 11622,...</td>\n",
       "    </tr>\n",
       "    <tr>\n",
       "      <th>...</th>\n",
       "      <td>...</td>\n",
       "      <td>...</td>\n",
       "    </tr>\n",
       "    <tr>\n",
       "      <th>995</th>\n",
       "      <td>qwer9412</td>\n",
       "      <td>[4716, 11658, 8741, 14371, 13549, 6549, 10817,...</td>\n",
       "    </tr>\n",
       "    <tr>\n",
       "      <th>996</th>\n",
       "      <td>wwiiiii</td>\n",
       "      <td>[14739, 6549, 10817, 13456, 1057, 2577, 2693, ...</td>\n",
       "    </tr>\n",
       "    <tr>\n",
       "      <th>997</th>\n",
       "      <td>bunker12383</td>\n",
       "      <td>[6549, 12849, 15665, 1517, 12931, 5337, 9012, ...</td>\n",
       "    </tr>\n",
       "    <tr>\n",
       "      <th>998</th>\n",
       "      <td>dbtmdgns4296</td>\n",
       "      <td>[6549, 10817, 2577, 1517, 1546, 9012, 1644, 27...</td>\n",
       "    </tr>\n",
       "    <tr>\n",
       "      <th>999</th>\n",
       "      <td>jatana</td>\n",
       "      <td>[8129, 18542, 8188, 11943, 18665, 14589, 8231,...</td>\n",
       "    </tr>\n",
       "  </tbody>\n",
       "</table>\n",
       "<p>1000 rows × 2 columns</p>\n",
       "</div>"
      ],
      "text/plain": [
       "                  handle                                     solved_problem\n",
       "0                koosaga  [2502, 12106, 18483, 2795, 18947, 10826, 23413...\n",
       "1               cki86201  [2502, 11254, 12106, 16928, 18483, 15360, 1372...\n",
       "2    mitnegativeinfinity  [18855, 18483, 11622, 1372, 24661, 18947, 2341...\n",
       "3                  ainta  [11865, 1372, 24270, 2795, 10826, 15513, 11228...\n",
       "4                 yclock  [5565, 16928, 20090, 10759, 2753, 7644, 11622,...\n",
       "..                   ...                                                ...\n",
       "995             qwer9412  [4716, 11658, 8741, 14371, 13549, 6549, 10817,...\n",
       "996              wwiiiii  [14739, 6549, 10817, 13456, 1057, 2577, 2693, ...\n",
       "997          bunker12383  [6549, 12849, 15665, 1517, 12931, 5337, 9012, ...\n",
       "998         dbtmdgns4296  [6549, 10817, 2577, 1517, 1546, 9012, 1644, 27...\n",
       "999               jatana  [8129, 18542, 8188, 11943, 18665, 14589, 8231,...\n",
       "\n",
       "[1000 rows x 2 columns]"
      ]
     },
     "execution_count": 25,
     "metadata": {},
     "output_type": "execute_result"
    }
   ],
   "source": [
    "solved_problems"
   ]
  },
  {
   "cell_type": "code",
   "execution_count": 23,
   "metadata": {},
   "outputs": [
    {
     "name": "stdout",
     "output_type": "stream",
     "text": [
      "len(unique_uid):  117461\n",
      "(BEFORE) unique_uid:  ['koosaga' 'cki86201' 'mitnegativeinfinity' ... 'youjong12' 'youngin39'\n",
      " 'youngjae99']\n",
      "(AFTER) unique_uid:  ['yous3163' 'carer' 'grabbity0' ... 'kms78900' 'stacy' 'f410']\n"
     ]
    }
   ],
   "source": [
    "unique_uid = pd.unique(solved_problems['handle'])\n",
    "print('len(unique_uid): ', len(unique_uid))\n",
    "print(\"(BEFORE) unique_uid: \", unique_uid)\n",
    "np.random.seed(2023)\n",
    "idx_perm = np.random.permutation(unique_uid.size)\n",
    "unique_uid = unique_uid[idx_perm]\n",
    "print(\"(AFTER) unique_uid: \", unique_uid)"
   ]
  },
  {
   "cell_type": "code",
   "execution_count": null,
   "metadata": {},
   "outputs": [],
   "source": []
  }
 ],
 "metadata": {
  "kernelspec": {
   "display_name": "bigproject",
   "language": "python",
   "name": "python3"
  },
  "language_info": {
   "codemirror_mode": {
    "name": "ipython",
    "version": 3
   },
   "file_extension": ".py",
   "mimetype": "text/x-python",
   "name": "python",
   "nbconvert_exporter": "python",
   "pygments_lexer": "ipython3",
   "version": "3.10.11"
  },
  "orig_nbformat": 4
 },
 "nbformat": 4,
 "nbformat_minor": 2
}
